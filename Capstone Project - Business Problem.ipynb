{
    "cells": [
        {
            "cell_type": "markdown",
            "metadata": {
                "collapsed": true
            },
            "source": "# Business Problem"
        },
        {
            "cell_type": "markdown",
            "metadata": {},
            "source": "## The Outdoor Recreation and Professional Services Inc is located in Rosedale, Downtown Tornoto. The client had a successful run in the present neighborhood of the Toronto City. They offer outdoor activity and recreation products and services to their customer."
        },
        {
            "cell_type": "markdown",
            "metadata": {},
            "source": "Now with its existing business maturing in Rosendale, they would like to expand their operations in another neighborhood.\n\nThe bulk of the clients existing business comes from the venues in the existing neighborhood. The client's business operating model is therefore proven and as such the client wants to reduce the risk and accentuate the possibility of success by investing in neighborhoods with similar venue profile.\n\nThe objective therefore is to facilitate the client\u2019s selection of the neighborhoods by proposing neighborhoods that are similar to the present one.\n"
        },
        {
            "cell_type": "code",
            "execution_count": null,
            "metadata": {},
            "outputs": [],
            "source": ""
        }
    ],
    "metadata": {
        "kernelspec": {
            "display_name": "Python 3.6",
            "language": "python",
            "name": "python3"
        },
        "language_info": {
            "codemirror_mode": {
                "name": "ipython",
                "version": 3
            },
            "file_extension": ".py",
            "mimetype": "text/x-python",
            "name": "python",
            "nbconvert_exporter": "python",
            "pygments_lexer": "ipython3",
            "version": "3.6.9"
        }
    },
    "nbformat": 4,
    "nbformat_minor": 1
}