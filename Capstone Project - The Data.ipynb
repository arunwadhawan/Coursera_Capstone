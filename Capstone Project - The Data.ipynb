{
    "cells": [
        {
            "cell_type": "markdown",
            "metadata": {
                "collapsed": true
            },
            "source": "# Data: Requirements and Sources for the Project\n"
        },
        {
            "cell_type": "markdown",
            "metadata": {},
            "source": "#### Considering the objective of the project, to find neighborhoods similar to existing one, there is a need to conduct location analytics. All the neighborhoolds within the Tornonto city are in the scope of the project.\n\nThe following data set was ascertained to be used for the initial iteration for the project:\n\n##### A. List of all the boroughs associated with Toronoto \n\nThe following link was found to contain all the relevant borough's alongwith the postal codes \nhttps://en.wikipedia.org/wiki/List_of_postal_codes_of_Canada:_M'\n\nColumns used:\nPostalCode\tBorough\tNeighborhood\n\n##### B. List of all the boroughs associated with Toronoto \nIn order to explore the venues for the boroughs, the geo coordinates for the borough's were also required. The same was preprocessed and made available postal code wise. The csv file is to be downloaded from http://cocl.us/Geospatial_data'\n\nColumns used: PostalCode\tLatitude\tLongitude\n\n##### C. FOURSQUARE api with the Explore endpoint is planned to be used to fetch the details for the venues near the latitude and longitude coordinates for each borough. \n\nInorder to call the api, the developer access to Foursquare Developers was registered and the client_id and client secret keys were generated as a pre-requisite.\nThe api call returns json with a multitude of keys and value pairs. The relevant data sets are to be extract by writing suitable functions. The json data can then be tranformed into data frame using some of the existing python packages.\n\nAll the above data sets were progressively used, combined and transformed for the effective analysis, exploration, clustering and final recommendations to meet the project objective.\n"
        },
        {
            "cell_type": "code",
            "execution_count": null,
            "metadata": {},
            "outputs": [],
            "source": ""
        }
    ],
    "metadata": {
        "kernelspec": {
            "display_name": "Python 3.6",
            "language": "python",
            "name": "python3"
        },
        "language_info": {
            "codemirror_mode": {
                "name": "ipython",
                "version": 3
            },
            "file_extension": ".py",
            "mimetype": "text/x-python",
            "name": "python",
            "nbconvert_exporter": "python",
            "pygments_lexer": "ipython3",
            "version": "3.6.9"
        }
    },
    "nbformat": 4,
    "nbformat_minor": 1
}